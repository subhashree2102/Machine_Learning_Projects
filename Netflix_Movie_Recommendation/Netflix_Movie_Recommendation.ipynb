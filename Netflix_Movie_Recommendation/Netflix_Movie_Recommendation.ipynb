{
 "cells": [
  {
   "cell_type": "code",
   "execution_count": 3,
   "id": "7ffd1600-04c7-4cec-a30f-df4bf9fba78e",
   "metadata": {},
   "outputs": [],
   "source": [
    "import numpy as np\n",
    "import pandas as pd\n",
    "from scipy.sparse.linalg import svds\n",
    "from sklearn.metrics import mean_squared_error"
   ]
  },
  {
   "cell_type": "code",
   "execution_count": 4,
   "id": "0f187a41-a601-4b33-b8a2-1ede9221eb24",
   "metadata": {},
   "outputs": [],
   "source": [
    "df = pd.read_csv(r'C:\\Users\\subha\\OneDrive\\Desktop\\netflix_titles.csv')"
   ]
  },
  {
   "cell_type": "code",
   "execution_count": 5,
   "id": "d2505a8d-18ca-4163-97aa-8ebf3a322db4",
   "metadata": {},
   "outputs": [
    {
     "data": {
      "text/html": [
       "<div>\n",
       "<style scoped>\n",
       "    .dataframe tbody tr th:only-of-type {\n",
       "        vertical-align: middle;\n",
       "    }\n",
       "\n",
       "    .dataframe tbody tr th {\n",
       "        vertical-align: top;\n",
       "    }\n",
       "\n",
       "    .dataframe thead th {\n",
       "        text-align: right;\n",
       "    }\n",
       "</style>\n",
       "<table border=\"1\" class=\"dataframe\">\n",
       "  <thead>\n",
       "    <tr style=\"text-align: right;\">\n",
       "      <th></th>\n",
       "      <th>show_id</th>\n",
       "      <th>type</th>\n",
       "      <th>title</th>\n",
       "      <th>director</th>\n",
       "      <th>cast</th>\n",
       "      <th>country</th>\n",
       "      <th>date_added</th>\n",
       "      <th>release_year</th>\n",
       "      <th>rating</th>\n",
       "      <th>duration</th>\n",
       "      <th>listed_in</th>\n",
       "      <th>description</th>\n",
       "    </tr>\n",
       "  </thead>\n",
       "  <tbody>\n",
       "    <tr>\n",
       "      <th>0</th>\n",
       "      <td>s1</td>\n",
       "      <td>Movie</td>\n",
       "      <td>Dick Johnson Is Dead</td>\n",
       "      <td>Kirsten Johnson</td>\n",
       "      <td>NaN</td>\n",
       "      <td>United States</td>\n",
       "      <td>September 25, 2021</td>\n",
       "      <td>2020</td>\n",
       "      <td>PG-13</td>\n",
       "      <td>90 min</td>\n",
       "      <td>Documentaries</td>\n",
       "      <td>As her father nears the end of his life, filmm...</td>\n",
       "    </tr>\n",
       "    <tr>\n",
       "      <th>1</th>\n",
       "      <td>s2</td>\n",
       "      <td>TV Show</td>\n",
       "      <td>Blood &amp; Water</td>\n",
       "      <td>NaN</td>\n",
       "      <td>Ama Qamata, Khosi Ngema, Gail Mabalane, Thaban...</td>\n",
       "      <td>South Africa</td>\n",
       "      <td>September 24, 2021</td>\n",
       "      <td>2021</td>\n",
       "      <td>TV-MA</td>\n",
       "      <td>2 Seasons</td>\n",
       "      <td>International TV Shows, TV Dramas, TV Mysteries</td>\n",
       "      <td>After crossing paths at a party, a Cape Town t...</td>\n",
       "    </tr>\n",
       "    <tr>\n",
       "      <th>2</th>\n",
       "      <td>s3</td>\n",
       "      <td>TV Show</td>\n",
       "      <td>Ganglands</td>\n",
       "      <td>Julien Leclercq</td>\n",
       "      <td>Sami Bouajila, Tracy Gotoas, Samuel Jouy, Nabi...</td>\n",
       "      <td>NaN</td>\n",
       "      <td>September 24, 2021</td>\n",
       "      <td>2021</td>\n",
       "      <td>TV-MA</td>\n",
       "      <td>1 Season</td>\n",
       "      <td>Crime TV Shows, International TV Shows, TV Act...</td>\n",
       "      <td>To protect his family from a powerful drug lor...</td>\n",
       "    </tr>\n",
       "    <tr>\n",
       "      <th>3</th>\n",
       "      <td>s4</td>\n",
       "      <td>TV Show</td>\n",
       "      <td>Jailbirds New Orleans</td>\n",
       "      <td>NaN</td>\n",
       "      <td>NaN</td>\n",
       "      <td>NaN</td>\n",
       "      <td>September 24, 2021</td>\n",
       "      <td>2021</td>\n",
       "      <td>TV-MA</td>\n",
       "      <td>1 Season</td>\n",
       "      <td>Docuseries, Reality TV</td>\n",
       "      <td>Feuds, flirtations and toilet talk go down amo...</td>\n",
       "    </tr>\n",
       "    <tr>\n",
       "      <th>4</th>\n",
       "      <td>s5</td>\n",
       "      <td>TV Show</td>\n",
       "      <td>Kota Factory</td>\n",
       "      <td>NaN</td>\n",
       "      <td>Mayur More, Jitendra Kumar, Ranjan Raj, Alam K...</td>\n",
       "      <td>India</td>\n",
       "      <td>September 24, 2021</td>\n",
       "      <td>2021</td>\n",
       "      <td>TV-MA</td>\n",
       "      <td>2 Seasons</td>\n",
       "      <td>International TV Shows, Romantic TV Shows, TV ...</td>\n",
       "      <td>In a city of coaching centers known to train I...</td>\n",
       "    </tr>\n",
       "  </tbody>\n",
       "</table>\n",
       "</div>"
      ],
      "text/plain": [
       "  show_id     type                  title         director  \\\n",
       "0      s1    Movie   Dick Johnson Is Dead  Kirsten Johnson   \n",
       "1      s2  TV Show          Blood & Water              NaN   \n",
       "2      s3  TV Show              Ganglands  Julien Leclercq   \n",
       "3      s4  TV Show  Jailbirds New Orleans              NaN   \n",
       "4      s5  TV Show           Kota Factory              NaN   \n",
       "\n",
       "                                                cast        country  \\\n",
       "0                                                NaN  United States   \n",
       "1  Ama Qamata, Khosi Ngema, Gail Mabalane, Thaban...   South Africa   \n",
       "2  Sami Bouajila, Tracy Gotoas, Samuel Jouy, Nabi...            NaN   \n",
       "3                                                NaN            NaN   \n",
       "4  Mayur More, Jitendra Kumar, Ranjan Raj, Alam K...          India   \n",
       "\n",
       "           date_added  release_year rating   duration  \\\n",
       "0  September 25, 2021          2020  PG-13     90 min   \n",
       "1  September 24, 2021          2021  TV-MA  2 Seasons   \n",
       "2  September 24, 2021          2021  TV-MA   1 Season   \n",
       "3  September 24, 2021          2021  TV-MA   1 Season   \n",
       "4  September 24, 2021          2021  TV-MA  2 Seasons   \n",
       "\n",
       "                                           listed_in  \\\n",
       "0                                      Documentaries   \n",
       "1    International TV Shows, TV Dramas, TV Mysteries   \n",
       "2  Crime TV Shows, International TV Shows, TV Act...   \n",
       "3                             Docuseries, Reality TV   \n",
       "4  International TV Shows, Romantic TV Shows, TV ...   \n",
       "\n",
       "                                         description  \n",
       "0  As her father nears the end of his life, filmm...  \n",
       "1  After crossing paths at a party, a Cape Town t...  \n",
       "2  To protect his family from a powerful drug lor...  \n",
       "3  Feuds, flirtations and toilet talk go down amo...  \n",
       "4  In a city of coaching centers known to train I...  "
      ]
     },
     "execution_count": 5,
     "metadata": {},
     "output_type": "execute_result"
    }
   ],
   "source": [
    "df.head()"
   ]
  },
  {
   "cell_type": "code",
   "execution_count": 6,
   "id": "941e4692-360f-4e85-b2ef-d9adbf61407e",
   "metadata": {},
   "outputs": [
    {
     "data": {
      "text/plain": [
       "(8807, 12)"
      ]
     },
     "execution_count": 6,
     "metadata": {},
     "output_type": "execute_result"
    }
   ],
   "source": [
    "df.shape"
   ]
  },
  {
   "cell_type": "code",
   "execution_count": 8,
   "id": "0910c0fb-5637-4e45-86d7-b8716e9c8533",
   "metadata": {},
   "outputs": [
    {
     "name": "stdout",
     "output_type": "stream",
     "text": [
      "<class 'pandas.core.frame.DataFrame'>\n",
      "RangeIndex: 8807 entries, 0 to 8806\n",
      "Data columns (total 12 columns):\n",
      " #   Column        Non-Null Count  Dtype \n",
      "---  ------        --------------  ----- \n",
      " 0   show_id       8807 non-null   object\n",
      " 1   type          8807 non-null   object\n",
      " 2   title         8807 non-null   object\n",
      " 3   director      6173 non-null   object\n",
      " 4   cast          7982 non-null   object\n",
      " 5   country       7976 non-null   object\n",
      " 6   date_added    8797 non-null   object\n",
      " 7   release_year  8807 non-null   int64 \n",
      " 8   rating        8803 non-null   object\n",
      " 9   duration      8804 non-null   object\n",
      " 10  listed_in     8807 non-null   object\n",
      " 11  description   8807 non-null   object\n",
      "dtypes: int64(1), object(11)\n",
      "memory usage: 825.8+ KB\n"
     ]
    }
   ],
   "source": [
    "df.info()"
   ]
  },
  {
   "cell_type": "code",
   "execution_count": 12,
   "id": "e3faa45a-34f6-4ff9-9eae-32b6f0946836",
   "metadata": {},
   "outputs": [],
   "source": [
    "movies = df[df['type'] == 'Movie'].head(500)\n",
    "movies = movies[['show_id', 'title']]"
   ]
  },
  {
   "cell_type": "code",
   "execution_count": 14,
   "id": "3668fc29-d53f-41d1-8fac-39f6f7b5c54d",
   "metadata": {},
   "outputs": [],
   "source": [
    "np.random.seed(42)\n",
    "n_users = 100  \n",
    "n_movies = len(movies)"
   ]
  },
  {
   "cell_type": "code",
   "execution_count": 17,
   "id": "e9824295-5f71-4796-acef-0c5f26649ba9",
   "metadata": {},
   "outputs": [],
   "source": [
    "ratings_matrix = np.random.randint(1, 6, (n_users, n_movies))  \n",
    "ratings_df = pd.DataFrame(ratings_matrix, columns=movies['title'])"
   ]
  },
  {
   "cell_type": "code",
   "execution_count": 19,
   "id": "d6d91d74-eeb5-42aa-8edf-e975acf734f2",
   "metadata": {},
   "outputs": [],
   "source": [
    "k = min(n_users, n_movies) - 1 if min(n_users, n_movies) > 1 else 1"
   ]
  },
  {
   "cell_type": "code",
   "execution_count": 21,
   "id": "be2c1a20-d890-4104-acbe-3b3baef675aa",
   "metadata": {},
   "outputs": [],
   "source": [
    "def get_safe_k(n_users, n_movies):\n",
    "    return max(1, min(n_users, n_movies) // 2)  # Use half of the smaller dimension\n",
    "k = get_safe_k(n_users, n_movies)"
   ]
  },
  {
   "cell_type": "code",
   "execution_count": 23,
   "id": "6b03acb9-7bd6-4c00-a1c1-0f5cc865dd7e",
   "metadata": {},
   "outputs": [],
   "source": [
    "U, S, Vt = np.linalg.svd(ratings_matrix, full_matrices=False)\n",
    "S = np.diag(S[:k])  # Keep only the top k singular values\n",
    "U = U[:, :k]\n",
    "Vt = Vt[:k, :]"
   ]
  },
  {
   "cell_type": "code",
   "execution_count": 25,
   "id": "f596a528-2eef-4e2c-90b8-896e43f6cfb6",
   "metadata": {},
   "outputs": [],
   "source": [
    "predicted_ratings = np.dot(np.dot(U, S), Vt)\n",
    "predicted_ratings_df = pd.DataFrame(predicted_ratings, columns=movies['title'])"
   ]
  },
  {
   "cell_type": "code",
   "execution_count": 27,
   "id": "20965aa6-e359-468f-b93b-0a64a424eff0",
   "metadata": {},
   "outputs": [],
   "source": [
    "def recommend_movies(user_id, num_recommendations=5):\n",
    "    user_ratings = predicted_ratings_df.iloc[user_id]\n",
    "    recommended_movies = user_ratings.sort_values(ascending=False).head(num_recommendations)\n",
    "    return recommended_movies"
   ]
  },
  {
   "cell_type": "code",
   "execution_count": 42,
   "id": "c3c0fbeb-f0e7-4d76-8cd1-d9c7f805124b",
   "metadata": {},
   "outputs": [
    {
     "name": "stdout",
     "output_type": "stream",
     "text": [
      "Recommended Movies for User 90\n",
      "title\n",
      "The Blue Lagoon                 6.046461\n",
      "Osuofia in London               5.903456\n",
      "The Original Kings of Comedy    5.717495\n",
      "Cousins                         5.690016\n",
      "Pineapple Express               5.560237\n",
      "Name: 90, dtype: float64\n"
     ]
    }
   ],
   "source": [
    "user_id = 90\n",
    "recommendations = recommend_movies(user_id)\n",
    "print(\"Recommended Movies for User\", user_id)\n",
    "print(recommendations)"
   ]
  },
  {
   "cell_type": "code",
   "execution_count": 31,
   "id": "81cbddb7-a278-40ca-a21b-ca7a72a7f627",
   "metadata": {},
   "outputs": [],
   "source": [
    "mask = np.random.rand(*ratings_matrix.shape) < 0.8\n",
    "train_matrix = ratings_matrix * mask  # Training set (80% of ratings)\n",
    "test_matrix = ratings_matrix * ~mask  # Test set (20% of ratings)"
   ]
  },
  {
   "cell_type": "code",
   "execution_count": 33,
   "id": "0e0a312f-b5b1-4133-b3f7-b1e7d2d30084",
   "metadata": {},
   "outputs": [
    {
     "name": "stdout",
     "output_type": "stream",
     "text": [
      "RMSE: 0.7915\n",
      "RMSE Percentage: 15.83%\n"
     ]
    }
   ],
   "source": [
    "mask_test = test_matrix > 0  \n",
    "rmse = np.sqrt(mean_squared_error(test_matrix[mask_test], predicted_ratings[mask_test]))\n",
    "rmse_percentage = (rmse / 5) * 100  \n",
    "\n",
    "print(f'RMSE: {rmse:.4f}')\n",
    "print(f'RMSE Percentage: {rmse_percentage:.2f}%')"
   ]
  }
 ],
 "metadata": {
  "kernelspec": {
   "display_name": "Python [conda env:base] *",
   "language": "python",
   "name": "conda-base-py"
  },
  "language_info": {
   "codemirror_mode": {
    "name": "ipython",
    "version": 3
   },
   "file_extension": ".py",
   "mimetype": "text/x-python",
   "name": "python",
   "nbconvert_exporter": "python",
   "pygments_lexer": "ipython3",
   "version": "3.12.7"
  }
 },
 "nbformat": 4,
 "nbformat_minor": 5
}
